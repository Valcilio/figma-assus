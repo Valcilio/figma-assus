{
 "cells": [
  {
   "cell_type": "markdown",
   "id": "ed808568",
   "metadata": {
    "heading_collapsed": true
   },
   "source": [
    "# Imports"
   ]
  },
  {
   "cell_type": "code",
<<<<<<< HEAD
   "execution_count": 1,
   "id": "06f07f03",
   "metadata": {
    "ExecuteTime": {
     "end_time": "2021-12-05T14:47:05.144030Z",
     "start_time": "2021-12-05T14:47:04.363084Z"
=======
   "execution_count": 14,
   "id": "06f07f03",
   "metadata": {
    "ExecuteTime": {
     "end_time": "2021-12-05T01:58:57.286820Z",
     "start_time": "2021-12-05T01:58:57.283510Z"
>>>>>>> fe19791c279cfc3d6c24f25a73d65ca72d1ceaa9
    },
    "hidden": true
   },
   "outputs": [],
   "source": [
    "import pandas as pd\n",
    "import openpyxl as ol\n",
    "import inflection\n",
    "import datetime as dt\n",
    "from selenium import webdriver\n",
    "from webdriver_manager.chrome import ChromeDriverManager\n",
    "import time\n",
    "from zipfile import ZipFile\n",
<<<<<<< HEAD
    "import os\n",
    "import shutil\n",
    "import context as c\n",
    "import zipfile\n",
=======
>>>>>>> fe19791c279cfc3d6c24f25a73d65ca72d1ceaa9
    "\n",
    "pd.set_option('display.float_format', lambda x: '%.3f' % x)"
   ]
  },
  {
   "cell_type": "markdown",
   "id": "a67529b8",
   "metadata": {
    "heading_collapsed": true
   },
   "source": [
    "# Helper Functions"
   ]
  },
  {
   "cell_type": "code",
<<<<<<< HEAD
   "execution_count": 46,
   "id": "63b9daa1",
   "metadata": {
    "ExecuteTime": {
     "end_time": "2021-12-05T18:53:31.239594Z",
     "start_time": "2021-12-05T18:53:31.221653Z"
=======
   "execution_count": 19,
   "id": "63b9daa1",
   "metadata": {
    "ExecuteTime": {
     "end_time": "2021-12-05T00:42:15.799685Z",
     "start_time": "2021-12-05T00:42:15.789236Z"
>>>>>>> fe19791c279cfc3d6c24f25a73d65ca72d1ceaa9
    },
    "hidden": true
   },
   "outputs": [],
   "source": [
    "# função de extração de dados da API do BACEN\n",
    "def consulta_bc(codigo_bcb):\n",
    "    url = 'http://api.bcb.gov.br/dados/serie/bcdata.sgs.{}/dados?formato=json'.format(codigo_bcb)\n",
    "    df_bacen = pd.read_json(url)\n",
    "    df_bacen['data'] = pd.to_datetime(df_bacen['data'], dayfirst=True)\n",
    "    return df_bacen"
   ]
  },
  {
   "cell_type": "markdown",
   "id": "c9af01cc",
   "metadata": {
    "heading_collapsed": true
   },
   "source": [
    "# 1.0. Extraindo Dados do Santander"
   ]
  },
  {
   "cell_type": "code",
<<<<<<< HEAD
   "execution_count": 70,
   "id": "90d16708",
   "metadata": {
    "ExecuteTime": {
     "end_time": "2021-12-05T19:00:23.218157Z",
     "start_time": "2021-12-05T19:00:04.793286Z"
    },
=======
   "execution_count": 12,
   "id": "90d16708",
   "metadata": {
    "ExecuteTime": {
     "end_time": "2021-12-05T01:55:04.596243Z",
     "start_time": "2021-12-05T01:54:53.546733Z"
    },
    "collapsed": true,
>>>>>>> fe19791c279cfc3d6c24f25a73d65ca72d1ceaa9
    "hidden": true
   },
   "outputs": [
    {
     "name": "stderr",
     "output_type": "stream",
     "text": [
      "\n",
      "\n",
<<<<<<< HEAD
      "2021-12-05 16:00:04,795 (INFO)\t||| \n",
      "\n",
      "====== WebDriver manager ======\n",
      "2021-12-05 16:00:04,797 (INFO)\t||| ====== WebDriver manager ======\n",
      "Current google-chrome version is 96.0.4664\n",
      "2021-12-05 16:00:04,825 (INFO)\t||| Current google-chrome version is 96.0.4664\n",
      "Get LATEST chromedriver version for 96.0.4664 google-chrome\n",
      "2021-12-05 16:00:04,827 (INFO)\t||| Get LATEST chromedriver version for 96.0.4664 google-chrome\n",
      "Driver [C:\\Users\\oev100285\\.wdm\\drivers\\chromedriver\\win32\\96.0.4664.45\\chromedriver.exe] found in cache\n",
      "2021-12-05 16:00:05,300 (INFO)\t||| Driver [C:\\Users\\oev100285\\.wdm\\drivers\\chromedriver\\win32\\96.0.4664.45\\chromedriver.exe] found in cache\n",
      "C:\\Users\\OEV100~1\\AppData\\Local\\Temp/ipykernel_6364/3696780123.py:2: DeprecationWarning: executable_path has been deprecated, please pass in a Service object\n",
      "  navegador = webdriver.Chrome(ChromeDriverManager().install())\n",
      "C:\\Users\\OEV100~1\\AppData\\Local\\Temp/ipykernel_6364/3696780123.py:6: DeprecationWarning: find_element_by_* commands are deprecated. Please use find_element() instead\n",
=======
      "====== WebDriver manager ======\n",
      "Current google-chrome version is 96.0.4664\n",
      "Get LATEST chromedriver version for 96.0.4664 google-chrome\n",
      "Driver [/home/valcilio/.wdm/drivers/chromedriver/linux64/96.0.4664.45/chromedriver] found in cache\n",
      "<ipython-input-12-16f5266fe648>:2: DeprecationWarning: executable_path has been deprecated, please pass in a Service object\n",
      "  navegador = webdriver.Chrome(ChromeDriverManager().install())\n",
      "<ipython-input-12-16f5266fe648>:6: DeprecationWarning: find_element_by_* commands are deprecated. Please use find_element() instead\n",
>>>>>>> fe19791c279cfc3d6c24f25a73d65ca72d1ceaa9
      "  navegador.find_element_by_xpath('//*[@id=\"projecoes\"]/content-page/div[2]/download-list/div/div/product-accordion-content-downloads/div/product-accordion-content-download/a').click()\n"
     ]
    }
   ],
   "source": [
    "# definindo webdriver\n",
    "navegador = webdriver.Chrome(ChromeDriverManager().install())\n",
    "\n",
    "# baixando arquivo\n",
    "navegador.get(\"https://www.santander.com.br/analise-economica\")\n",
    "navegador.find_element_by_xpath('//*[@id=\"projecoes\"]/content-page/div[2]/download-list/div/div/product-accordion-content-downloads/div/product-accordion-content-download/a').click()\n",
    "\n",
    "# esperando três segundos e fechando o bowser\n",
    "time.sleep(3)\n",
    "navegador.close()\n",
    "\n",
<<<<<<< HEAD
    "# caminho do zip baixado\n",
    "scrapped_data = c.get_last_file(r\"C:\\Users\\oev100285\\Downloads\", r\"Projeções_\\d+\\.zip\")\n",
    "\n",
    "# movendo de downloads para\n",
    "try: \n",
    "    shutil.move(scrapped_data, c.DATA_EXT_FLD)\n",
    "except Exception as e:\n",
    "    pass\n",
    "\n",
    "# pausa de 3 segundos antes de prosseguir\n",
    "time.sleep(1)\n",
    "\n",
    "# fazendo o unzip dos arquivos\n",
    "path_zip = c.get_last_file(c.DATA_EXT_FLD, r'Projeções_\\d+\\.zip')\n",
    "Zip_ref = zipfile.ZipFile(path_zip, 'r')\n",
    "Zip_ref.extractall(c.DATA_EXT_FLD)\n",
    "Zip_ref.close()"
=======
    "\"\"\"Essa parte do script irá apenas fazer o download, ainda será necessário mover manualmente\n",
    "o arquivo baixo da pasta downloads para a pasta de \"\"\""
>>>>>>> fe19791c279cfc3d6c24f25a73d65ca72d1ceaa9
   ]
  },
  {
   "cell_type": "markdown",
   "id": "a0e32896",
   "metadata": {
    "heading_collapsed": true
   },
   "source": [
    "# 2.0. Limpando o Excel"
   ]
  },
  {
   "cell_type": "markdown",
   "id": "6627d705",
   "metadata": {
    "heading_collapsed": true,
    "hidden": true
   },
   "source": [
    "## 2.1. Carregando Dados"
   ]
  },
  {
   "cell_type": "code",
<<<<<<< HEAD
   "execution_count": 24,
   "id": "f779412c",
   "metadata": {
    "ExecuteTime": {
     "end_time": "2021-12-05T18:41:45.372419Z",
     "start_time": "2021-12-05T18:41:43.859023Z"
=======
   "execution_count": 52,
   "id": "f779412c",
   "metadata": {
    "ExecuteTime": {
     "end_time": "2021-12-05T00:45:47.250880Z",
     "start_time": "2021-12-05T00:45:45.427738Z"
>>>>>>> fe19791c279cfc3d6c24f25a73d65ca72d1ceaa9
    },
    "hidden": true
   },
   "outputs": [],
   "source": [
    "# carregando excel\n",
<<<<<<< HEAD
    "excel_path = c.get_last_file(c.DATA_EXT_FLD, r'MACROECO_ENG \\d+\\.xlsx')\n",
    "workbook = ol.load_workbook(filename=excel_path, keep_vba=True)"
=======
    "workbook = ol.load_workbook(filename=\"../data/raw/MACROECO_ENG 211126.xlsx\", keep_vba=True)"
>>>>>>> fe19791c279cfc3d6c24f25a73d65ca72d1ceaa9
   ]
  },
  {
   "cell_type": "markdown",
   "id": "0520d432",
   "metadata": {
    "heading_collapsed": true,
    "hidden": true
   },
   "source": [
    "## 2.2. Limpando Excel"
   ]
  },
  {
   "cell_type": "code",
<<<<<<< HEAD
   "execution_count": 25,
   "id": "5b9bd7fa",
   "metadata": {
    "ExecuteTime": {
     "end_time": "2021-12-05T18:41:47.802127Z",
     "start_time": "2021-12-05T18:41:47.799138Z"
=======
   "execution_count": 53,
   "id": "5b9bd7fa",
   "metadata": {
    "ExecuteTime": {
     "end_time": "2021-12-05T00:45:47.254611Z",
     "start_time": "2021-12-05T00:45:47.252354Z"
>>>>>>> fe19791c279cfc3d6c24f25a73d65ca72d1ceaa9
    },
    "hidden": true
   },
   "outputs": [],
   "source": [
    "# selecionando sheet\n",
    "sh1 = workbook['Monthly']"
   ]
  },
  {
   "cell_type": "code",
<<<<<<< HEAD
   "execution_count": 26,
   "id": "fa69e272",
   "metadata": {
    "ExecuteTime": {
     "end_time": "2021-12-05T18:41:47.848031Z",
     "start_time": "2021-12-05T18:41:47.803124Z"
=======
   "execution_count": 54,
   "id": "fa69e272",
   "metadata": {
    "ExecuteTime": {
     "end_time": "2021-12-05T00:45:47.295382Z",
     "start_time": "2021-12-05T00:45:47.256959Z"
>>>>>>> fe19791c279cfc3d6c24f25a73d65ca72d1ceaa9
    },
    "hidden": true
   },
   "outputs": [],
   "source": [
    "# deletando linhas inúteis\n",
    "sh1.delete_rows(1, 2)\n",
    "sh1.delete_rows(3)"
   ]
  },
  {
   "cell_type": "markdown",
   "id": "9ed5f0c3",
   "metadata": {
    "heading_collapsed": true,
    "hidden": true
   },
   "source": [
    "## 2.3. Salvando Excel"
   ]
  },
  {
   "cell_type": "code",
<<<<<<< HEAD
   "execution_count": 33,
   "id": "a71a6278",
   "metadata": {
    "ExecuteTime": {
     "end_time": "2021-12-05T18:51:05.118882Z",
     "start_time": "2021-12-05T18:51:03.994386Z"
=======
   "execution_count": 55,
   "id": "a71a6278",
   "metadata": {
    "ExecuteTime": {
     "end_time": "2021-12-05T00:45:48.677622Z",
     "start_time": "2021-12-05T00:45:47.297019Z"
>>>>>>> fe19791c279cfc3d6c24f25a73d65ca72d1ceaa9
    },
    "hidden": true
   },
   "outputs": [],
   "source": [
    "# salvando workbook limpo\n",
<<<<<<< HEAD
    "today = dt.datetime.now().strftime('%Y%m%d%H')\n",
    "workbook.save(c.DATA_EXT_FLD/f'excel_cleaned_{today}.xlsx')"
=======
    "workbook.save('../data/processed/test.xlsx')"
>>>>>>> fe19791c279cfc3d6c24f25a73d65ca72d1ceaa9
   ]
  },
  {
   "cell_type": "markdown",
   "id": "c3bfe4ec",
   "metadata": {
    "heading_collapsed": true
   },
   "source": [
    "# 3.0. Limpando o CSV"
   ]
  },
  {
   "cell_type": "markdown",
   "id": "2b2db7ad",
   "metadata": {
    "heading_collapsed": true,
    "hidden": true
   },
   "source": [
    "## 3.1. Carregando Dados"
   ]
  },
  {
   "cell_type": "code",
<<<<<<< HEAD
   "execution_count": 73,
   "id": "44c90bb9",
   "metadata": {
    "ExecuteTime": {
     "end_time": "2021-12-05T19:27:58.050787Z",
     "start_time": "2021-12-05T19:27:57.912155Z"
=======
   "execution_count": 56,
   "id": "44c90bb9",
   "metadata": {
    "ExecuteTime": {
     "end_time": "2021-12-05T00:45:48.882621Z",
     "start_time": "2021-12-05T00:45:48.679500Z"
>>>>>>> fe19791c279cfc3d6c24f25a73d65ca72d1ceaa9
    },
    "hidden": true
   },
   "outputs": [],
   "source": [
    "# carregando excel limpo\n",
<<<<<<< HEAD
    "csv_path = c.get_last_file(c.DATA_PROC_FLD, f'excel_cleaned_{today}.xlsx')\n",
    "df_santander = pd.read_excel(csv_path, sheet_name='Monthly')\n",
=======
    "df_santander = pd.read_excel('../data/processed/test.xlsx', sheet_name='Monthly')\n",
>>>>>>> fe19791c279cfc3d6c24f25a73d65ca72d1ceaa9
    "\n",
    "# copiando primeira linha para coluna\n",
    "df_santander.columns = df_santander.iloc[0]\n",
    "\n",
    "# dropando primeira linha\n",
    "df_santander = df_santander.drop(0)"
   ]
  },
  {
   "cell_type": "markdown",
   "id": "d72c4339",
   "metadata": {
    "heading_collapsed": true,
    "hidden": true
   },
   "source": [
    "## 3.2. Renomeando Colunas"
   ]
  },
  {
   "cell_type": "code",
<<<<<<< HEAD
   "execution_count": 35,
   "id": "4ef74529",
   "metadata": {
    "ExecuteTime": {
     "end_time": "2021-12-05T18:52:44.556608Z",
     "start_time": "2021-12-05T18:52:44.543643Z"
=======
   "execution_count": 57,
   "id": "4ef74529",
   "metadata": {
    "ExecuteTime": {
     "end_time": "2021-12-05T00:45:48.888615Z",
     "start_time": "2021-12-05T00:45:48.883966Z"
>>>>>>> fe19791c279cfc3d6c24f25a73d65ca72d1ceaa9
    },
    "hidden": true
   },
   "outputs": [],
   "source": [
    "# velhas colunas\n",
    "cols_old = ['date', 'IGP-M_percentual', 'IPCA_percentual', 'INPC_percentual','INCC_percentual', \n",
    "            'IGP-M_acumulated', 'IPCA_acumulated', 'INPC_acumulated', 'INCC_acumulated',\n",
    "             'BRL/USD - end of period', 'BRL/USD - month average',\n",
    "             'USD/EUR - final', 'Selic target',\n",
    "             'Effective selic annualized_percentual', 'Effective monthly CDI_percentual',\n",
    "             'TJLP', 'TLP', \"IBGE's unemployment_percentual\",\n",
    "             \"IBGE's unemployment (s.a.)\", 'FED Funds',\n",
    "             'Libor 12m (average) / SOFR', 'CDS Brazil 5Y']\n",
    "\n",
    "# snakecase function\n",
    "snakecase = lambda x: inflection.underscore( x )\n",
    "\n",
    "# novas colunas no snakecase\n",
    "cols_new = map( snakecase, cols_old)\n",
    "\n",
    "# passando novas colunas\n",
    "df_santander.columns = cols_new"
   ]
  },
  {
   "cell_type": "markdown",
   "id": "8160cf4a",
   "metadata": {
    "heading_collapsed": true,
    "hidden": true
   },
   "source": [
    "## 3.3. Changing Dtypes"
   ]
  },
  {
   "cell_type": "code",
<<<<<<< HEAD
   "execution_count": 36,
   "id": "31a51b6d",
   "metadata": {
    "ExecuteTime": {
     "end_time": "2021-12-05T18:52:44.587525Z",
     "start_time": "2021-12-05T18:52:44.559600Z"
=======
   "execution_count": 58,
   "id": "31a51b6d",
   "metadata": {
    "ExecuteTime": {
     "end_time": "2021-12-05T00:45:48.914163Z",
     "start_time": "2021-12-05T00:45:48.890005Z"
>>>>>>> fe19791c279cfc3d6c24f25a73d65ca72d1ceaa9
    },
    "hidden": true,
    "scrolled": true
   },
   "outputs": [],
   "source": [
    "# mudando os \"-\" para \"0\"\n",
    "df_santander.iloc[:,1:] = df_santander.iloc[:,1:].apply(lambda x: x.replace('-', '0'))\n",
    "                        \n",
    "# mudando de string para float\n",
    "df_santander.iloc[:,1:] = df_santander.iloc[:,1:].astype(float)"
   ]
  },
  {
   "cell_type": "markdown",
   "id": "a1ad256f",
   "metadata": {
    "heading_collapsed": true
   },
   "source": [
    "# 4.0. Extraindo Dados do BACEN"
   ]
  },
  {
   "cell_type": "markdown",
   "id": "615e9f0f",
   "metadata": {
    "heading_collapsed": true,
    "hidden": true
   },
   "source": [
    "## 4.1. PIB Total"
   ]
  },
  {
   "cell_type": "code",
<<<<<<< HEAD
   "execution_count": 77,
   "id": "21082913",
   "metadata": {
    "ExecuteTime": {
     "end_time": "2021-12-05T19:32:34.140210Z",
     "start_time": "2021-12-05T19:32:33.362758Z"
=======
   "execution_count": 59,
   "id": "21082913",
   "metadata": {
    "ExecuteTime": {
     "end_time": "2021-12-05T00:45:49.570564Z",
     "start_time": "2021-12-05T00:45:48.916332Z"
>>>>>>> fe19791c279cfc3d6c24f25a73d65ca72d1ceaa9
    },
    "hidden": true
   },
   "outputs": [],
   "source": [
    "# extraindo dados do BACEN\n",
    "df_pib = consulta_bc(22099)"
   ]
  },
  {
   "cell_type": "code",
<<<<<<< HEAD
   "execution_count": 78,
   "id": "e638bba3",
   "metadata": {
    "ExecuteTime": {
     "end_time": "2021-12-05T19:32:34.247924Z",
     "start_time": "2021-12-05T19:32:34.234005Z"
=======
   "execution_count": 60,
   "id": "e638bba3",
   "metadata": {
    "ExecuteTime": {
     "end_time": "2021-12-05T00:45:49.581728Z",
     "start_time": "2021-12-05T00:45:49.576178Z"
>>>>>>> fe19791c279cfc3d6c24f25a73d65ca72d1ceaa9
    },
    "hidden": true
   },
   "outputs": [],
   "source": [
    "# renomeando colunas\n",
    "df_pib = df_pib.rename(columns={'valor':'pib_monthly', 'data':'date'})"
   ]
  },
  {
   "cell_type": "markdown",
   "id": "b7fe0488",
   "metadata": {
    "heading_collapsed": true,
    "hidden": true
   },
   "source": [
    "## 4.2. PIB Agro"
   ]
  },
  {
   "cell_type": "code",
<<<<<<< HEAD
   "execution_count": 79,
   "id": "79f998b4",
   "metadata": {
    "ExecuteTime": {
     "end_time": "2021-12-05T19:32:35.128004Z",
     "start_time": "2021-12-05T19:32:34.341756Z"
=======
   "execution_count": 61,
   "id": "79f998b4",
   "metadata": {
    "ExecuteTime": {
     "end_time": "2021-12-05T00:45:50.240978Z",
     "start_time": "2021-12-05T00:45:49.585072Z"
>>>>>>> fe19791c279cfc3d6c24f25a73d65ca72d1ceaa9
    },
    "hidden": true
   },
   "outputs": [],
   "source": [
    "# extraindo dados do BACEN e salvando no dataframe\n",
    "df_pib['pib_agro_monthly'] = consulta_bc(22083)['valor']"
   ]
  },
  {
   "cell_type": "markdown",
   "id": "304e8481",
   "metadata": {
    "heading_collapsed": true,
    "hidden": true
   },
   "source": [
    "## 4.3. PIB Indústria"
   ]
  },
  {
   "cell_type": "code",
<<<<<<< HEAD
   "execution_count": 80,
   "id": "7213ffa9",
   "metadata": {
    "ExecuteTime": {
     "end_time": "2021-12-05T19:32:35.871221Z",
     "start_time": "2021-12-05T19:32:35.207784Z"
=======
   "execution_count": 62,
   "id": "7213ffa9",
   "metadata": {
    "ExecuteTime": {
     "end_time": "2021-12-05T00:45:50.904571Z",
     "start_time": "2021-12-05T00:45:50.246675Z"
>>>>>>> fe19791c279cfc3d6c24f25a73d65ca72d1ceaa9
    },
    "hidden": true
   },
   "outputs": [],
   "source": [
    "# extraindo dados do BACEN e salvando no dataframe\n",
    "df_pib['pib_indus_monthly'] = consulta_bc(22084)['valor']"
   ]
  },
  {
   "cell_type": "markdown",
   "id": "32e433c4",
   "metadata": {
    "heading_collapsed": true,
    "hidden": true
   },
   "source": [
    "## 4.4. PIB Serviços"
   ]
  },
  {
   "cell_type": "code",
<<<<<<< HEAD
   "execution_count": 81,
   "id": "80f51fff",
   "metadata": {
    "ExecuteTime": {
     "end_time": "2021-12-05T19:32:36.627652Z",
     "start_time": "2021-12-05T19:32:35.949626Z"
=======
   "execution_count": 63,
   "id": "80f51fff",
   "metadata": {
    "ExecuteTime": {
     "end_time": "2021-12-05T00:45:51.553009Z",
     "start_time": "2021-12-05T00:45:50.907590Z"
>>>>>>> fe19791c279cfc3d6c24f25a73d65ca72d1ceaa9
    },
    "hidden": true
   },
   "outputs": [],
   "source": [
    "# extraindo dados do BACEN e salvando no dataframe\n",
    "df_pib['pib_serv_monthly'] = consulta_bc(22089)['valor']"
   ]
  },
  {
   "cell_type": "markdown",
   "id": "d5c6effe",
   "metadata": {
    "heading_collapsed": true,
    "hidden": true
   },
   "source": [
    "## 4.5. Consumo Familiar"
   ]
  },
  {
   "cell_type": "code",
<<<<<<< HEAD
   "execution_count": 82,
   "id": "780b1b57",
   "metadata": {
    "ExecuteTime": {
     "end_time": "2021-12-05T19:32:40.931778Z",
     "start_time": "2021-12-05T19:32:40.017665Z"
=======
   "execution_count": 64,
   "id": "780b1b57",
   "metadata": {
    "ExecuteTime": {
     "end_time": "2021-12-05T00:45:52.266189Z",
     "start_time": "2021-12-05T00:45:51.554394Z"
>>>>>>> fe19791c279cfc3d6c24f25a73d65ca72d1ceaa9
    },
    "hidden": true
   },
   "outputs": [],
   "source": [
    "# extraindo dados do BACEN e salvando no dataframe\n",
    "df_pib['consumo_familiar_monthly'] = consulta_bc(22100)['valor']"
   ]
  },
  {
   "cell_type": "markdown",
   "id": "a9ffdc7f",
   "metadata": {
    "heading_collapsed": true,
    "hidden": true
   },
   "source": [
    "## 4.6. IPCA Alimentos"
   ]
  },
  {
   "cell_type": "code",
<<<<<<< HEAD
   "execution_count": 83,
   "id": "8714648f",
   "metadata": {
    "ExecuteTime": {
     "end_time": "2021-12-05T19:32:41.722491Z",
     "start_time": "2021-12-05T19:32:41.025172Z"
=======
   "execution_count": 65,
   "id": "8714648f",
   "metadata": {
    "ExecuteTime": {
     "end_time": "2021-12-05T00:45:52.911768Z",
     "start_time": "2021-12-05T00:45:52.271157Z"
>>>>>>> fe19791c279cfc3d6c24f25a73d65ca72d1ceaa9
    },
    "hidden": true
   },
   "outputs": [],
   "source": [
    "# extraindo dados do BACEN\n",
    "df_ipca = consulta_bc(1635)"
   ]
  },
  {
   "cell_type": "code",
<<<<<<< HEAD
   "execution_count": 84,
   "id": "9d33a1e4",
   "metadata": {
    "ExecuteTime": {
     "end_time": "2021-12-05T19:32:41.830008Z",
     "start_time": "2021-12-05T19:32:41.815049Z"
=======
   "execution_count": 66,
   "id": "9d33a1e4",
   "metadata": {
    "ExecuteTime": {
     "end_time": "2021-12-05T00:45:52.916446Z",
     "start_time": "2021-12-05T00:45:52.913481Z"
>>>>>>> fe19791c279cfc3d6c24f25a73d65ca72d1ceaa9
    },
    "hidden": true
   },
   "outputs": [],
   "source": [
    "# renomeando colunas\n",
    "df_ipca = df_ipca.rename(columns={'valor':'ipca_alimentos_percentual_monthly', 'data':'date'})"
   ]
  },
  {
   "cell_type": "markdown",
   "id": "7ddd2c85",
   "metadata": {
    "heading_collapsed": true,
    "hidden": true
   },
   "source": [
    "## 4.7. Ajustando Datas"
   ]
  },
  {
   "cell_type": "code",
<<<<<<< HEAD
   "execution_count": 85,
   "id": "2c80bb25",
   "metadata": {
    "ExecuteTime": {
     "end_time": "2021-12-05T19:32:41.922611Z",
     "start_time": "2021-12-05T19:32:41.909566Z"
=======
   "execution_count": 67,
   "id": "2c80bb25",
   "metadata": {
    "ExecuteTime": {
     "end_time": "2021-12-05T00:45:52.925954Z",
     "start_time": "2021-12-05T00:45:52.917703Z"
>>>>>>> fe19791c279cfc3d6c24f25a73d65ca72d1ceaa9
    },
    "hidden": true
   },
   "outputs": [],
   "source": [
    "# derivando variáveis de tempo\n",
    "df_pib['month'] = df_pib['date'].dt.month\n",
    "df_pib['year'] = df_pib['date'].dt.year"
   ]
  },
  {
   "cell_type": "code",
<<<<<<< HEAD
   "execution_count": 86,
   "id": "d13d909b",
   "metadata": {
    "ExecuteTime": {
     "end_time": "2021-12-05T19:32:43.562584Z",
     "start_time": "2021-12-05T19:32:43.555604Z"
=======
   "execution_count": 68,
   "id": "d13d909b",
   "metadata": {
    "ExecuteTime": {
     "end_time": "2021-12-05T00:45:52.931714Z",
     "start_time": "2021-12-05T00:45:52.927311Z"
>>>>>>> fe19791c279cfc3d6c24f25a73d65ca72d1ceaa9
    },
    "hidden": true
   },
   "outputs": [],
   "source": [
    "# desenvolvendo variável de tempo referência\n",
    "df_ref = df_ipca['date'].copy().reset_index()"
   ]
  },
  {
   "cell_type": "code",
<<<<<<< HEAD
   "execution_count": 87,
   "id": "484332b9",
   "metadata": {
    "ExecuteTime": {
     "end_time": "2021-12-05T19:32:43.796884Z",
     "start_time": "2021-12-05T19:32:43.778874Z"
=======
   "execution_count": 69,
   "id": "484332b9",
   "metadata": {
    "ExecuteTime": {
     "end_time": "2021-12-05T00:45:52.939724Z",
     "start_time": "2021-12-05T00:45:52.933256Z"
>>>>>>> fe19791c279cfc3d6c24f25a73d65ca72d1ceaa9
    },
    "hidden": true
   },
   "outputs": [],
   "source": [
    "# derivando variáveis de tempo no ref\n",
    "df_ref['month'] = df_ref['date'].dt.month\n",
    "df_ref['year'] = df_ref['date'].dt.year\n",
    "\n",
    "# dropping index\n",
    "df_ref = df_ref.drop('index', axis=1)"
   ]
  },
  {
   "cell_type": "code",
<<<<<<< HEAD
   "execution_count": 88,
   "id": "92fec3cc",
   "metadata": {
    "ExecuteTime": {
     "end_time": "2021-12-05T19:32:44.011794Z",
     "start_time": "2021-12-05T19:32:43.998858Z"
=======
   "execution_count": 70,
   "id": "92fec3cc",
   "metadata": {
    "ExecuteTime": {
     "end_time": "2021-12-05T00:45:52.952177Z",
     "start_time": "2021-12-05T00:45:52.940905Z"
>>>>>>> fe19791c279cfc3d6c24f25a73d65ca72d1ceaa9
    },
    "hidden": true
   },
   "outputs": [],
   "source": [
    "# juntando dataframe\n",
    "df_merge = pd.merge(df_ref, df_pib, how='left', on=['month', 'year'])\n",
    "\n",
    "# juntando dados\n",
    "df_merge = df_merge.drop('date_y', axis=1).rename(columns={'date_x':'date'})"
   ]
  },
  {
   "cell_type": "code",
<<<<<<< HEAD
   "execution_count": 89,
   "id": "1e7a0225",
   "metadata": {
    "ExecuteTime": {
     "end_time": "2021-12-05T19:32:44.662580Z",
     "start_time": "2021-12-05T19:32:44.649643Z"
=======
   "execution_count": 71,
   "id": "1e7a0225",
   "metadata": {
    "ExecuteTime": {
     "end_time": "2021-12-05T00:45:52.957299Z",
     "start_time": "2021-12-05T00:45:52.953438Z"
>>>>>>> fe19791c279cfc3d6c24f25a73d65ca72d1ceaa9
    },
    "hidden": true,
    "scrolled": true
   },
   "outputs": [],
   "source": [
    "# preenchendo NAs com os valores anteriores\n",
    "df_merge = df_merge.fillna(method='ffill')"
   ]
  },
  {
   "cell_type": "code",
<<<<<<< HEAD
   "execution_count": 90,
   "id": "f93e077f",
   "metadata": {
    "ExecuteTime": {
     "end_time": "2021-12-05T19:32:46.982652Z",
     "start_time": "2021-12-05T19:32:46.967685Z"
=======
   "execution_count": 72,
   "id": "f93e077f",
   "metadata": {
    "ExecuteTime": {
     "end_time": "2021-12-05T00:45:52.965267Z",
     "start_time": "2021-12-05T00:45:52.958680Z"
>>>>>>> fe19791c279cfc3d6c24f25a73d65ca72d1ceaa9
    },
    "hidden": true
   },
   "outputs": [],
   "source": [
    "# tirando preenchimentos errôneos\n",
    "df_merge.iloc[-1, 3:] = None"
   ]
  },
  {
   "cell_type": "code",
<<<<<<< HEAD
   "execution_count": 91,
   "id": "02bedb52",
   "metadata": {
    "ExecuteTime": {
     "end_time": "2021-12-05T19:32:47.744566Z",
     "start_time": "2021-12-05T19:32:47.738584Z"
=======
   "execution_count": 73,
   "id": "02bedb52",
   "metadata": {
    "ExecuteTime": {
     "end_time": "2021-12-05T00:45:52.973322Z",
     "start_time": "2021-12-05T00:45:52.966812Z"
>>>>>>> fe19791c279cfc3d6c24f25a73d65ca72d1ceaa9
    },
    "hidden": true
   },
   "outputs": [],
   "source": [
    "# juntando com a tabel de IPCA\n",
    "df_bacen = pd.merge(df_merge, df_ipca, how='left', on='date')"
   ]
  },
  {
<<<<<<< HEAD
   "cell_type": "code",
   "execution_count": 92,
   "id": "0b6c73bd",
   "metadata": {
    "ExecuteTime": {
     "end_time": "2021-12-05T19:32:56.708932Z",
     "start_time": "2021-12-05T19:32:56.703946Z"
    },
    "hidden": true
   },
   "outputs": [
    {
     "data": {
      "text/plain": [
       "9"
      ]
     },
     "execution_count": 92,
     "metadata": {},
     "output_type": "execute_result"
    }
   ],
   "source": [
    "df_bacen.shape[1]"
   ]
  },
  {
=======
>>>>>>> fe19791c279cfc3d6c24f25a73d65ca72d1ceaa9
   "cell_type": "markdown",
   "id": "646df46b",
   "metadata": {
    "heading_collapsed": true
   },
   "source": [
    "# 5.0. Combinando Data Frames "
   ]
  },
  {
   "cell_type": "code",
<<<<<<< HEAD
   "execution_count": 63,
   "id": "33159791",
   "metadata": {
    "ExecuteTime": {
     "end_time": "2021-12-05T18:53:43.022608Z",
     "start_time": "2021-12-05T18:53:43.007567Z"
=======
   "execution_count": 74,
   "id": "33159791",
   "metadata": {
    "ExecuteTime": {
     "end_time": "2021-12-05T00:45:52.981319Z",
     "start_time": "2021-12-05T00:45:52.977115Z"
>>>>>>> fe19791c279cfc3d6c24f25a73d65ca72d1ceaa9
    },
    "hidden": true
   },
   "outputs": [],
   "source": [
    "# derivando ano\n",
    "df_santander['year'] = df_santander['date'].dt.year\n",
    "df_santander['month'] = df_santander['date'].dt.month"
   ]
  },
  {
   "cell_type": "code",
<<<<<<< HEAD
   "execution_count": 64,
   "id": "c2a36422",
   "metadata": {
    "ExecuteTime": {
     "end_time": "2021-12-05T18:53:43.037837Z",
     "start_time": "2021-12-05T18:53:43.023631Z"
=======
   "execution_count": 75,
   "id": "c2a36422",
   "metadata": {
    "ExecuteTime": {
     "end_time": "2021-12-05T00:45:52.993510Z",
     "start_time": "2021-12-05T00:45:52.983519Z"
>>>>>>> fe19791c279cfc3d6c24f25a73d65ca72d1ceaa9
    },
    "hidden": true
   },
   "outputs": [],
   "source": [
    "# concat dataframes\n",
<<<<<<< HEAD
    "df_total = pd.merge(df_bacen, df_santander, how='left', on=['year', 'month'])"
=======
    "df_total = pd.merge(df_santander, df_bacen, how='left', on=['year', 'month'])"
>>>>>>> fe19791c279cfc3d6c24f25a73d65ca72d1ceaa9
   ]
  },
  {
   "cell_type": "code",
<<<<<<< HEAD
   "execution_count": 65,
   "id": "93cfba43",
   "metadata": {
    "ExecuteTime": {
     "end_time": "2021-12-05T18:53:43.053569Z",
     "start_time": "2021-12-05T18:53:43.038837Z"
=======
   "execution_count": 76,
   "id": "93cfba43",
   "metadata": {
    "ExecuteTime": {
     "end_time": "2021-12-05T00:45:53.004575Z",
     "start_time": "2021-12-05T00:45:52.995137Z"
>>>>>>> fe19791c279cfc3d6c24f25a73d65ca72d1ceaa9
    },
    "hidden": true
   },
   "outputs": [],
   "source": [
    "# dropping columns\n",
    "df_total = df_total.drop(['year', 'month', 'date_y'], axis=1).rename(columns={'date_x':'date'})"
   ]
  },
  {
   "cell_type": "code",
<<<<<<< HEAD
   "execution_count": 69,
   "id": "b3b84eff",
   "metadata": {
    "ExecuteTime": {
     "end_time": "2021-12-05T18:55:49.268211Z",
     "start_time": "2021-12-05T18:55:49.246306Z"
=======
   "execution_count": 77,
   "id": "b3b84eff",
   "metadata": {
    "ExecuteTime": {
     "end_time": "2021-12-05T00:45:53.024874Z",
     "start_time": "2021-12-05T00:45:53.006003Z"
>>>>>>> fe19791c279cfc3d6c24f25a73d65ca72d1ceaa9
    },
    "hidden": true
   },
   "outputs": [],
   "source": [
    "# salvando dataframe atualizado\n",
<<<<<<< HEAD
    "df_total.to_csv(c.REPORT_FLD/f'indicadores_{today}.csv')"
=======
    "df_total.to_csv('indicadores.csv')"
>>>>>>> fe19791c279cfc3d6c24f25a73d65ca72d1ceaa9
   ]
  }
 ],
 "metadata": {
  "hide_input": false,
  "kernelspec": {
<<<<<<< HEAD
   "display_name": "Python 3 (ipykernel)",
=======
   "display_name": "Python 3",
>>>>>>> fe19791c279cfc3d6c24f25a73d65ca72d1ceaa9
   "language": "python",
   "name": "python3"
  },
  "language_info": {
   "codemirror_mode": {
    "name": "ipython",
    "version": 3
   },
   "file_extension": ".py",
   "mimetype": "text/x-python",
   "name": "python",
   "nbconvert_exporter": "python",
   "pygments_lexer": "ipython3",
<<<<<<< HEAD
   "version": "3.9.7"
=======
   "version": "3.9.4"
>>>>>>> fe19791c279cfc3d6c24f25a73d65ca72d1ceaa9
  },
  "latex_envs": {
   "LaTeX_envs_menu_present": true,
   "autoclose": false,
   "autocomplete": true,
   "bibliofile": "biblio.bib",
   "cite_by": "apalike",
   "current_citInitial": 1,
   "eqLabelWithNumbers": true,
   "eqNumInitial": 1,
   "hotkeys": {
    "equation": "Ctrl-E",
    "itemize": "Ctrl-I"
   },
   "labels_anchors": false,
   "latex_user_defs": false,
   "report_style_numbering": false,
   "user_envs_cfg": false
  },
  "varInspector": {
   "cols": {
    "lenName": 16,
    "lenType": 16,
    "lenVar": 40
   },
   "kernels_config": {
    "python": {
     "delete_cmd_postfix": "",
     "delete_cmd_prefix": "del ",
     "library": "var_list.py",
     "varRefreshCmd": "print(var_dic_list())"
    },
    "r": {
     "delete_cmd_postfix": ") ",
     "delete_cmd_prefix": "rm(",
     "library": "var_list.r",
     "varRefreshCmd": "cat(var_dic_list()) "
    }
   },
   "types_to_exclude": [
    "module",
    "function",
    "builtin_function_or_method",
    "instance",
    "_Feature"
   ],
   "window_display": false
  }
 },
 "nbformat": 4,
 "nbformat_minor": 5
}
